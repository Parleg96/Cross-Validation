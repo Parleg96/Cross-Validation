{
 "cells": [
  {
   "cell_type": "markdown",
   "id": "6044e326",
   "metadata": {},
   "source": [
    "# Name : Vaishnavi Dasari"
   ]
  },
  {
   "cell_type": "markdown",
   "id": "e7cc833c",
   "metadata": {},
   "source": [
    "# Roll No : D21037"
   ]
  },
  {
   "cell_type": "markdown",
   "id": "1802a8f1",
   "metadata": {},
   "source": [
    "# Name : Priyanka G"
   ]
  },
  {
   "cell_type": "markdown",
   "id": "f21b768b",
   "metadata": {},
   "source": [
    "# Roll No : D21027"
   ]
  },
  {
   "cell_type": "code",
   "execution_count": 8,
   "id": "32b14ed6",
   "metadata": {},
   "outputs": [],
   "source": [
    "#import the necessary libraries\n",
    "import numpy as np\n",
    "import random\n",
    "import pandas as pd\n",
    "import statsmodels.api as stm"
   ]
  },
  {
   "cell_type": "code",
   "execution_count": 9,
   "id": "3566a00f",
   "metadata": {},
   "outputs": [],
   "source": [
    "#read the text file\n",
    "cars=pd.read_csv('C:/Users/Priyanka G/Downloads/cars.csv')"
   ]
  },
  {
   "cell_type": "code",
   "execution_count": 10,
   "id": "d4999f8d",
   "metadata": {},
   "outputs": [
    {
     "data": {
      "text/html": [
       "<div>\n",
       "<style scoped>\n",
       "    .dataframe tbody tr th:only-of-type {\n",
       "        vertical-align: middle;\n",
       "    }\n",
       "\n",
       "    .dataframe tbody tr th {\n",
       "        vertical-align: top;\n",
       "    }\n",
       "\n",
       "    .dataframe thead th {\n",
       "        text-align: right;\n",
       "    }\n",
       "</style>\n",
       "<table border=\"1\" class=\"dataframe\">\n",
       "  <thead>\n",
       "    <tr style=\"text-align: right;\">\n",
       "      <th></th>\n",
       "      <th>Car</th>\n",
       "      <th>MPG</th>\n",
       "      <th>Cylinders</th>\n",
       "      <th>Displacement</th>\n",
       "      <th>Horsepower</th>\n",
       "      <th>Weight</th>\n",
       "      <th>Acceleration</th>\n",
       "      <th>Model</th>\n",
       "      <th>Origin</th>\n",
       "    </tr>\n",
       "  </thead>\n",
       "  <tbody>\n",
       "    <tr>\n",
       "      <th>213</th>\n",
       "      <td>Ford Pinto</td>\n",
       "      <td>26.5</td>\n",
       "      <td>4</td>\n",
       "      <td>140.0</td>\n",
       "      <td>72</td>\n",
       "      <td>2565</td>\n",
       "      <td>13.6</td>\n",
       "      <td>76</td>\n",
       "      <td>US</td>\n",
       "    </tr>\n",
       "    <tr>\n",
       "      <th>248</th>\n",
       "      <td>Datsun 810</td>\n",
       "      <td>22.0</td>\n",
       "      <td>6</td>\n",
       "      <td>146.0</td>\n",
       "      <td>97</td>\n",
       "      <td>2815</td>\n",
       "      <td>14.5</td>\n",
       "      <td>77</td>\n",
       "      <td>Japan</td>\n",
       "    </tr>\n",
       "    <tr>\n",
       "      <th>247</th>\n",
       "      <td>Volkswagen Dasher</td>\n",
       "      <td>30.5</td>\n",
       "      <td>4</td>\n",
       "      <td>97.0</td>\n",
       "      <td>78</td>\n",
       "      <td>2190</td>\n",
       "      <td>14.1</td>\n",
       "      <td>77</td>\n",
       "      <td>Europe</td>\n",
       "    </tr>\n",
       "    <tr>\n",
       "      <th>77</th>\n",
       "      <td>Chrysler Newport Royal</td>\n",
       "      <td>13.0</td>\n",
       "      <td>8</td>\n",
       "      <td>400.0</td>\n",
       "      <td>190</td>\n",
       "      <td>4422</td>\n",
       "      <td>12.5</td>\n",
       "      <td>72</td>\n",
       "      <td>US</td>\n",
       "    </tr>\n",
       "    <tr>\n",
       "      <th>357</th>\n",
       "      <td>Plymouth Horizon 4</td>\n",
       "      <td>34.7</td>\n",
       "      <td>4</td>\n",
       "      <td>105.0</td>\n",
       "      <td>63</td>\n",
       "      <td>2215</td>\n",
       "      <td>14.9</td>\n",
       "      <td>81</td>\n",
       "      <td>US</td>\n",
       "    </tr>\n",
       "  </tbody>\n",
       "</table>\n",
       "</div>"
      ],
      "text/plain": [
       "                        Car   MPG  Cylinders  Displacement  Horsepower  \\\n",
       "213              Ford Pinto  26.5          4         140.0          72   \n",
       "248              Datsun 810  22.0          6         146.0          97   \n",
       "247       Volkswagen Dasher  30.5          4          97.0          78   \n",
       "77   Chrysler Newport Royal  13.0          8         400.0         190   \n",
       "357      Plymouth Horizon 4  34.7          4         105.0          63   \n",
       "\n",
       "     Weight  Acceleration  Model  Origin  \n",
       "213    2565          13.6     76      US  \n",
       "248    2815          14.5     77   Japan  \n",
       "247    2190          14.1     77  Europe  \n",
       "77     4422          12.5     72      US  \n",
       "357    2215          14.9     81      US  "
      ]
     },
     "execution_count": 10,
     "metadata": {},
     "output_type": "execute_result"
    }
   ],
   "source": [
    "#shuffling the data \n",
    "data = cars.sample(len(cars))\n",
    "\n",
    "data.head()"
   ]
  },
  {
   "cell_type": "code",
   "execution_count": 11,
   "id": "3bf7bc8c",
   "metadata": {},
   "outputs": [],
   "source": [
    "#assigning the Xtrain and Ytrain\n",
    "Ytrain=data[\"MPG\"]\n",
    "Xtrain=data[\"Weight\"]"
   ]
  },
  {
   "cell_type": "code",
   "execution_count": 12,
   "id": "f1b6714e",
   "metadata": {},
   "outputs": [],
   "source": [
    "def CV(X_train,Y_train,k):                          #function for k-Fold Cross-Validation\n",
    "    N = int(len(X_train)/k)                         #calculating the size for each fold\n",
    "    i=0                                             #intializing i as a counter \n",
    "    while i < k:                                    #looping for k-1 folds\n",
    "\n",
    "        valX = X_train.iloc[N*i:N*i+N]              #validation data split from the X_train\n",
    "        trainX = X_train.iloc[N*i+N:]               #remaining is considered as train data \n",
    "        valY = Y_train.iloc[N*i:N*i+N]              #validation data split from the Y_train\n",
    "        trainY = Y_train.iloc[N*i+N:]               #remaining is considered as train data \n",
    "\n",
    "        X=stm.add_constant(X_train)                 #adding constant to the predictors           \n",
    "        lin=stm.OLS(Y_train,X).fit()                #linear regression on the target and predictors\n",
    "        b=lin.params                                #storing the parameters\n",
    "\n",
    "        Y=b[0]+(b[1]*valX)                          #y_cap calculation\n",
    "        MSE=(np.sum(np.square(valY-Y)))/len(valY)   #mean squared error calculation                             \n",
    "        CV_score=np.mean(MSE)                       #cross validation score calculation\n",
    "\n",
    "        i+=1                                        #increment for each fold k\n",
    "\n",
    "    print(CV_score)                                 #print the cv_score"
   ]
  },
  {
   "cell_type": "code",
   "execution_count": 13,
   "id": "eaabbc90",
   "metadata": {},
   "outputs": [
    {
     "name": "stdout",
     "output_type": "stream",
     "text": [
      "17.259854350014155\n"
     ]
    }
   ],
   "source": [
    "CV(Xtrain,Ytrain,15)                                #function call for cross_validation of 15 folds"
   ]
  },
  {
   "cell_type": "code",
   "execution_count": null,
   "id": "1c9f0770",
   "metadata": {},
   "outputs": [],
   "source": []
  }
 ],
 "metadata": {
  "kernelspec": {
   "display_name": "Python 3",
   "language": "python",
   "name": "python3"
  },
  "language_info": {
   "codemirror_mode": {
    "name": "ipython",
    "version": 3
   },
   "file_extension": ".py",
   "mimetype": "text/x-python",
   "name": "python",
   "nbconvert_exporter": "python",
   "pygments_lexer": "ipython3",
   "version": "3.8.8"
  }
 },
 "nbformat": 4,
 "nbformat_minor": 5
}
